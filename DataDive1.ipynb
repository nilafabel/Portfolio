{
 "cells": [
  {
   "cell_type": "code",
   "execution_count": null,
   "id": "fcd33e3d-9ab4-499b-a67a-8b6bbf622a99",
   "metadata": {},
   "outputs": [],
   "source": [
    "# Importing the necessary libraries for data visualization and analysis\n",
    "import matplotlib.pyplot as plt  # Matplotlib\n",
    "import seaborn as sns            # Seaborn \n",
    "import numpy as np               # NumPy \n",
    "import pandas as pd              # Pandas \n",
    "import matplotlib.ticker as mticker  # Ticker\n"
   ]
  },
  {
   "cell_type": "code",
   "execution_count": null,
   "id": "a6b1cd42-ef47-4594-b782-e7e83d5046a7",
   "metadata": {},
   "outputs": [],
   "source": [
    "df_housing = pd.read_csv('housing.csv', index_col=0)# Reads the CSV file 'housing.csv' into a DataFrame\n",
    "\n",
    "pd.set_option(\"display.max_rows\", None)      # Show all rows in the DataFrame output\n",
    "pd.set_option('display.max_columns', None)   # Show all columns in the DataFrame output\n",
    "\n",
    "df_housing #Displays the DataFrame 'df_housing'\n"
   ]
  },
  {
   "cell_type": "code",
   "execution_count": null,
   "id": "b813bdd6-3131-41c4-9b7f-384a13f69f20",
   "metadata": {},
   "outputs": [],
   "source": [
    "# Creates a new DataFrame 'housing_data' containing selected columns from 'df_housing'\n",
    "housing_data = pd.DataFrame(df_housing[['SalePrice', 'YearBuilt', 'OverallQual', 'OverallCond', 'YearRemodAdd', 'Neighborhood']])   \n",
    "\n",
    "housing_data # Displays the 'housing_data' DataFrame\n"
   ]
  },
  {
   "cell_type": "code",
   "execution_count": null,
   "id": "2f486c69-f7f3-4bd8-89e0-20cfb812e4f0",
   "metadata": {},
   "outputs": [],
   "source": [
    "# Sorts the 'housing_data' DataFrame by 'SalePrice' in descending order\n",
    "housing_data.sort_values(by='SalePrice', ascending=False, inplace=True)\n",
    "\n",
    "# Converts the 'OverallCond' column to integer type\n",
    "housing_data['OverallCond'] = housing_data['OverallCond'].astype(int)\n",
    "\n",
    "housing_data # Displays the updated 'housing_data' DataFrame\n"
   ]
  },
  {
   "cell_type": "code",
   "execution_count": null,
   "id": "9dded91e-4c20-4267-bb8c-4f669e74b2cf",
   "metadata": {},
   "outputs": [],
   "source": [
    "# Groups the 'housing_data' DataFrame by 'Neighborhood' and calculate the total 'SalePrice' for each neighborhood\n",
    "neighborhood_values = housing_data.groupby('Neighborhood')['SalePrice'].sum().reset_index()\n",
    "\n",
    "# Converts 'SalePrice' from dollars to millions for better readability\n",
    "neighborhood_values['SalePrice'] = neighborhood_values['SalePrice'] / 1_000_000\n",
    "\n",
    "# Sets the figure size for the plot\n",
    "plt.figure(figsize=(14, 7))\n",
    "\n",
    "# Creates a bar plot for total sale price by neighborhood\n",
    "bars = plt.bar(neighborhood_values['Neighborhood'], neighborhood_values['SalePrice'], color='skyblue')\n",
    "\n",
    "# Annotates each bar with the total sale price value for better understanding\n",
    "for bar in bars:\n",
    "    height = bar.get_height()  # Gets the height of the bar\n",
    "    x_position = bar.get_x() + bar.get_width() / 2  # Calculates the x position for the annotation\n",
    "    plt.text(x_position, height, f'{height:,.1f}M', ha='center', va='bottom')  # Adds text annotation\n",
    "\n",
    "# Sets the title and labels for the plot\n",
    "plt.title('Neighborhood Collective Market Value')\n",
    "plt.xlabel('Neighborhoods')\n",
    "plt.ylabel('Total Sale Price (in millions)')\n",
    "\n",
    "plt.xticks(rotation=45, ha='right') # Rotates x-axis labels for better readability\n",
    "\n",
    "plt.grid(axis='y', linestyle='--', alpha=0.8) # Adds a grid to the y-axis \n",
    "\n",
    "plt.tight_layout() # Adjusts the layout to prevent clipping of labels\n",
    "\n",
    "plt.show() # Displays the plot\n"
   ]
  },
  {
   "cell_type": "code",
   "execution_count": null,
   "id": "23256763-954c-4a82-9a02-8510d5ea46ab",
   "metadata": {},
   "outputs": [],
   "source": [
    "# Defines the neighborhoods of interest\n",
    "neighborhoods = ['NridgHt', 'CollgCr', 'NAmes', 'Somerst', 'Gilbert']\n",
    "\n",
    "# Creates lists to hold the results\n",
    "counts = []\n",
    "means = []\n",
    "\n",
    "# Loops through each neighborhood to calculate count and mean\n",
    "for neighborhood in neighborhoods:\n",
    "    housing_data_subset = housing_data[housing_data['Neighborhood'] == neighborhood]\n",
    "    counts.append(housing_data_subset.shape[0])  # Count of houses\n",
    "    means.append(round(housing_data_subset['SalePrice'].mean(), 2))  # Mean sale price\n",
    "\n",
    "# Creates a DataFrame to summarize the results\n",
    "rank_summary_df = pd.DataFrame({\n",
    "    'Neighborhood': ['North Ames', 'College Creek', 'Northridge Heights', 'Somerset', 'Gilbert'],\n",
    "    'Count': counts,\n",
    "    'Mean Sale Price': means\n",
    "})\n",
    "\n",
    "print(rank_summary_df) # Prints the counts and mean sale prices\n"
   ]
  },
  {
   "cell_type": "code",
   "execution_count": null,
   "id": "eb3c1137-5135-4060-9c8f-d5f889f6c477",
   "metadata": {},
   "outputs": [],
   "source": [
    "# Counts the number of houses for each OverallCond level (1 to 10)\n",
    "overall_cond_counts = [(NAmes_housing['OverallCond'] == i).sum() for i in range(1, 11)]\n",
    "\n",
    "# Creates a summary DataFrame\n",
    "count_NAmes_cond = pd.DataFrame({\n",
    "    'OverallCond': range(1, 11),\n",
    "    'Number of Houses': overall_cond_counts\n",
    "})\n",
    "\n",
    "print(count_NAmes_cond) # Prints the summary DataFrame\n"
   ]
  },
  {
   "cell_type": "code",
   "execution_count": null,
   "id": "ac71625a-47dc-4e9f-97bf-2761f7ddce5e",
   "metadata": {},
   "outputs": [],
   "source": [
    "# Counts the number of houses for each OverallQual level (1 to 10)\n",
    "overall_qual_counts = [(NAmes_housing['OverallQual'] == i).sum() for i in range(1, 11)]\n",
    "\n",
    "# Creates a summary DataFrame\n",
    "count_NAmes_qual = pd.DataFrame({\n",
    "    'OverallQual': range(1, 11),\n",
    "    'Number of Houses': overall_qual_counts\n",
    "})\n",
    "\n",
    "print(count_NAmes_qual) # Prints the summary DataFrame\n"
   ]
  },
  {
   "cell_type": "code",
   "execution_count": null,
   "id": "0e68d5f3-8f47-4b30-a758-b838233ebb37",
   "metadata": {},
   "outputs": [],
   "source": [
    "# Creates a new figure for the plot with specified dimensions\n",
    "plt.figure(figsize=(14, 7))\n",
    "\n",
    "# Plots the Overall Condition of houses\n",
    "plt.plot(count_NAmes_cond['OverallCond'], count_NAmes_cond['Number of Houses'], \n",
    "         marker='o', color='skyblue', label='Overall Condition')\n",
    "\n",
    "# Plot the Overall Quality of houses\n",
    "plt.plot(count_NAmes_qual['OverallQual'], count_NAmes_qual['Number of Houses'], \n",
    "         marker='v', color='hotpink', label='Overall Quality')\n",
    "\n",
    "# Sets the title of the plot\n",
    "plt.title('Overall Condition and Quality of Houses in the North Ames Neighborhood')\n",
    "\n",
    "plt.xlabel('Overall Condition/Quality') # Labels the x-axis\n",
    "\n",
    "plt.ylabel('Number of Houses') # Labels the y-axis\n",
    "\n",
    "# Sets x-axis ticks to be integers from 1 to 10\n",
    "plt.xticks(ticks=range(1, 11))\n",
    "\n",
    "# Adds a grid to the y-axis with dashed lines and a specified transparency (alpha)\n",
    "plt.grid(axis='y', linestyle='--', alpha=0.8)\n",
    "\n",
    "# Adds a grid to the x-axis with dashed lines and a specified transparency (alpha)\n",
    "plt.grid(axis='x', linestyle='--', alpha=0.8)\n",
    "\n",
    "plt.legend() # Displays the key for better understanding\n",
    "\n",
    "plt.show() # Shows the plot\n"
   ]
  },
  {
   "cell_type": "code",
   "execution_count": null,
   "id": "20103282-18a8-42ad-80b2-1a9dd7cff724",
   "metadata": {},
   "outputs": [],
   "source": [
    "# Filters the NAmes_housing DataFrame to get houses with Overall Quality between 5 and 10 \n",
    "# and Overall Condition of 5 or higher. Create a copy of this filtered DataFrame.\n",
    "high_rating_houses = NAmes_housing[\n",
    "    (NAmes_housing['OverallQual'] >= 5) &  \n",
    "    (NAmes_housing['OverallQual'] <= 10) & \n",
    "    (NAmes_housing['OverallCond'] >= 5)    \n",
    "].copy() # Creates a copy of this filtered DataFrame, this helps avoid an error\n",
    "\n",
    "# Creates a new column 'Renovated' to indicate if the house has been renovated.\n",
    "high_rating_houses.loc[:, 'Renovated'] = high_rating_houses['YearRemodAdd'] > high_rating_houses['YearBuilt']\n",
    "\n",
    "# Displays the resulting DataFrame of high-rating houses with the new 'Renovated' column.\n",
    "high_rating_houses\n"
   ]
  },
  {
   "cell_type": "code",
   "execution_count": null,
   "id": "dc1670cb-943a-49a1-9b59-1d13839cb381",
   "metadata": {},
   "outputs": [],
   "source": [
    "# Counts the number of houses in high_rating_houses DataFrame based on the 'Renovated' column.\n",
    "# This will return a Series with counts of True (renovated) and False (not renovated).\n",
    "renovation_counts = high_rating_houses['Renovated'].value_counts()\n",
    "\n",
    "renovation_counts # Displays the counts of renovated and non-renovated houses.\n"
   ]
  },
  {
   "cell_type": "code",
   "execution_count": null,
   "id": "c3a0cbd1-583d-4e46-bad5-4b3159ab4d16",
   "metadata": {},
   "outputs": [],
   "source": [
    "# Groups the high_rating_houses DataFrame by the 'Renovated' column.\n",
    "# Calculates the mean sale price for each group (renovated and not renovated).\n",
    "average_prices = high_rating_houses.groupby('Renovated')['SalePrice'].mean()\n",
    "\n",
    "average_prices # Displays the average sale prices for renovated and non-renovated houses.\n"
   ]
  },
  {
   "cell_type": "code",
   "execution_count": null,
   "id": "c28c16b2-d7e6-4fa1-8963-c57887d65047",
   "metadata": {},
   "outputs": [],
   "source": []
  }
 ],
 "metadata": {
  "kernelspec": {
   "display_name": "Python 3 (ipykernel)",
   "language": "python",
   "name": "python3"
  },
  "language_info": {
   "codemirror_mode": {
    "name": "ipython",
    "version": 3
   },
   "file_extension": ".py",
   "mimetype": "text/x-python",
   "name": "python",
   "nbconvert_exporter": "python",
   "pygments_lexer": "ipython3",
   "version": "3.12.4"
  }
 },
 "nbformat": 4,
 "nbformat_minor": 5
}
